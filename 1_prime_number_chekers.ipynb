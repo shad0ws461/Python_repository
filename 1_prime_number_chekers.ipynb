{
  "nbformat": 4,
  "nbformat_minor": 0,
  "metadata": {
    "colab": {
      "provenance": [],
      "authorship_tag": "ABX9TyPNzwybqyg3765BtKnWRN9u",
      "include_colab_link": true
    },
    "kernelspec": {
      "name": "python3",
      "display_name": "Python 3"
    },
    "language_info": {
      "name": "python"
    }
  },
  "cells": [
    {
      "cell_type": "markdown",
      "metadata": {
        "id": "view-in-github",
        "colab_type": "text"
      },
      "source": [
        "<a href=\"https://colab.research.google.com/github/shad0ws461/Python_repository/blob/main/1_prime_number_chekers.ipynb\" target=\"_parent\"><img src=\"https://colab.research.google.com/assets/colab-badge.svg\" alt=\"Open In Colab\"/></a>"
      ]
    },
    {
      "cell_type": "code",
      "execution_count": null,
      "metadata": {
        "id": "Q3zco4mDiGUu"
      },
      "outputs": [],
      "source": [
        "def is_prime(number):\n",
        "    if number<=1:\n",
        "        return False\n",
        "    for i in range(2, number):\n",
        "        if number %i ==0:\n",
        "            return False\n",
        "    return True\n",
        "# Test the function\n",
        "number = int(input(\"Enter a number:\"))\n",
        "if is_prime(number):\n",
        "    print(f\"{number} is a prime number.\")\n",
        "else:\n",
        "    print(f\"{number} is not a prime number.\")"
      ]
    }
  ]
}